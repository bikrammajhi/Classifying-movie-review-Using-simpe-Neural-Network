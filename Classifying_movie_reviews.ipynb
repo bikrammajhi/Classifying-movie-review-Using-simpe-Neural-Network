{
  "nbformat": 4,
  "nbformat_minor": 0,
  "metadata": {
    "colab": {
      "provenance": [],
      "authorship_tag": "ABX9TyOb2ZjwDN1Aj28RjDnCGMNW",
      "include_colab_link": true
    },
    "kernelspec": {
      "name": "python3",
      "display_name": "Python 3"
    },
    "language_info": {
      "name": "python"
    },
    "accelerator": "GPU",
    "gpuClass": "standard"
  },
  "cells": [
    {
      "cell_type": "markdown",
      "metadata": {
        "id": "view-in-github",
        "colab_type": "text"
      },
      "source": [
        "<a href=\"https://colab.research.google.com/github/iiserkbikram/Classifying-movie-review-Using-simpe-Neural-Network/blob/main/Classifying_movie_reviews.ipynb\" target=\"_parent\"><img src=\"https://colab.research.google.com/assets/colab-badge.svg\" alt=\"Open In Colab\"/></a>"
      ]
    },
    {
      "cell_type": "markdown",
      "source": [
        "# The IMDB Dataset\n",
        "We will work with the IMDB datast which contains a set of 50,00 highly polarized revfew form Internet Movie Database. We have 25000 review for training and 25000 reviews for testing, and each set contains 50% neagtivea and 50% positive reviews."
      ],
      "metadata": {
        "id": "VIH2g_99eEEv"
      }
    },
    {
      "cell_type": "code",
      "execution_count": 2,
      "metadata": {
        "id": "TSRl3ibLdM61"
      },
      "outputs": [],
      "source": [
        "# Loading the IMDB data sets\n",
        "from keras.datasets import imdb\n",
        "\n",
        "(train_data, train_labels), (test_data, test_labels) = imdb.load_data(num_words = 10000) \n",
        "# num_words=10000 means we will only keep the top 10,000 most frequently occuring words in the training data"
      ]
    },
    {
      "cell_type": "code",
      "source": [
        "train_data[0]\n",
        "# each review is a list of word indices (encoding a sequence of words)"
      ],
      "metadata": {
        "id": "ARjf8Oahf6av",
        "colab": {
          "base_uri": "https://localhost:8080/"
        },
        "outputId": "0b7731e0-639b-4731-baca-349fba6a41a7"
      },
      "execution_count": 3,
      "outputs": [
        {
          "output_type": "execute_result",
          "data": {
            "text/plain": [
              "[1,\n",
              " 14,\n",
              " 22,\n",
              " 16,\n",
              " 43,\n",
              " 530,\n",
              " 973,\n",
              " 1622,\n",
              " 1385,\n",
              " 65,\n",
              " 458,\n",
              " 4468,\n",
              " 66,\n",
              " 3941,\n",
              " 4,\n",
              " 173,\n",
              " 36,\n",
              " 256,\n",
              " 5,\n",
              " 25,\n",
              " 100,\n",
              " 43,\n",
              " 838,\n",
              " 112,\n",
              " 50,\n",
              " 670,\n",
              " 2,\n",
              " 9,\n",
              " 35,\n",
              " 480,\n",
              " 284,\n",
              " 5,\n",
              " 150,\n",
              " 4,\n",
              " 172,\n",
              " 112,\n",
              " 167,\n",
              " 2,\n",
              " 336,\n",
              " 385,\n",
              " 39,\n",
              " 4,\n",
              " 172,\n",
              " 4536,\n",
              " 1111,\n",
              " 17,\n",
              " 546,\n",
              " 38,\n",
              " 13,\n",
              " 447,\n",
              " 4,\n",
              " 192,\n",
              " 50,\n",
              " 16,\n",
              " 6,\n",
              " 147,\n",
              " 2025,\n",
              " 19,\n",
              " 14,\n",
              " 22,\n",
              " 4,\n",
              " 1920,\n",
              " 4613,\n",
              " 469,\n",
              " 4,\n",
              " 22,\n",
              " 71,\n",
              " 87,\n",
              " 12,\n",
              " 16,\n",
              " 43,\n",
              " 530,\n",
              " 38,\n",
              " 76,\n",
              " 15,\n",
              " 13,\n",
              " 1247,\n",
              " 4,\n",
              " 22,\n",
              " 17,\n",
              " 515,\n",
              " 17,\n",
              " 12,\n",
              " 16,\n",
              " 626,\n",
              " 18,\n",
              " 2,\n",
              " 5,\n",
              " 62,\n",
              " 386,\n",
              " 12,\n",
              " 8,\n",
              " 316,\n",
              " 8,\n",
              " 106,\n",
              " 5,\n",
              " 4,\n",
              " 2223,\n",
              " 5244,\n",
              " 16,\n",
              " 480,\n",
              " 66,\n",
              " 3785,\n",
              " 33,\n",
              " 4,\n",
              " 130,\n",
              " 12,\n",
              " 16,\n",
              " 38,\n",
              " 619,\n",
              " 5,\n",
              " 25,\n",
              " 124,\n",
              " 51,\n",
              " 36,\n",
              " 135,\n",
              " 48,\n",
              " 25,\n",
              " 1415,\n",
              " 33,\n",
              " 6,\n",
              " 22,\n",
              " 12,\n",
              " 215,\n",
              " 28,\n",
              " 77,\n",
              " 52,\n",
              " 5,\n",
              " 14,\n",
              " 407,\n",
              " 16,\n",
              " 82,\n",
              " 2,\n",
              " 8,\n",
              " 4,\n",
              " 107,\n",
              " 117,\n",
              " 5952,\n",
              " 15,\n",
              " 256,\n",
              " 4,\n",
              " 2,\n",
              " 7,\n",
              " 3766,\n",
              " 5,\n",
              " 723,\n",
              " 36,\n",
              " 71,\n",
              " 43,\n",
              " 530,\n",
              " 476,\n",
              " 26,\n",
              " 400,\n",
              " 317,\n",
              " 46,\n",
              " 7,\n",
              " 4,\n",
              " 2,\n",
              " 1029,\n",
              " 13,\n",
              " 104,\n",
              " 88,\n",
              " 4,\n",
              " 381,\n",
              " 15,\n",
              " 297,\n",
              " 98,\n",
              " 32,\n",
              " 2071,\n",
              " 56,\n",
              " 26,\n",
              " 141,\n",
              " 6,\n",
              " 194,\n",
              " 7486,\n",
              " 18,\n",
              " 4,\n",
              " 226,\n",
              " 22,\n",
              " 21,\n",
              " 134,\n",
              " 476,\n",
              " 26,\n",
              " 480,\n",
              " 5,\n",
              " 144,\n",
              " 30,\n",
              " 5535,\n",
              " 18,\n",
              " 51,\n",
              " 36,\n",
              " 28,\n",
              " 224,\n",
              " 92,\n",
              " 25,\n",
              " 104,\n",
              " 4,\n",
              " 226,\n",
              " 65,\n",
              " 16,\n",
              " 38,\n",
              " 1334,\n",
              " 88,\n",
              " 12,\n",
              " 16,\n",
              " 283,\n",
              " 5,\n",
              " 16,\n",
              " 4472,\n",
              " 113,\n",
              " 103,\n",
              " 32,\n",
              " 15,\n",
              " 16,\n",
              " 5345,\n",
              " 19,\n",
              " 178,\n",
              " 32]"
            ]
          },
          "metadata": {},
          "execution_count": 3
        }
      ]
    },
    {
      "cell_type": "code",
      "source": [
        "train_labels[0]\n",
        "\n",
        "# 0 stands for negative and 1 stands for positive review"
      ],
      "metadata": {
        "id": "khHjCHhveIYB",
        "colab": {
          "base_uri": "https://localhost:8080/"
        },
        "outputId": "b081525d-5a3c-44f3-c850-0d2dea334b8b"
      },
      "execution_count": 4,
      "outputs": [
        {
          "output_type": "execute_result",
          "data": {
            "text/plain": [
              "1"
            ]
          },
          "metadata": {},
          "execution_count": 4
        }
      ]
    },
    {
      "cell_type": "code",
      "source": [
        "# Since we restricting to top 10,000 most frequent words, no word index will exceed 10,000. Let's check\n",
        "max([max(sequence) for sequence in train_data])"
      ],
      "metadata": {
        "id": "YvyfLpIfgC5I",
        "colab": {
          "base_uri": "https://localhost:8080/"
        },
        "outputId": "df050293-e511-4528-adfd-3a36a70208cb"
      },
      "execution_count": 5,
      "outputs": [
        {
          "output_type": "execute_result",
          "data": {
            "text/plain": [
              "9999"
            ]
          },
          "metadata": {},
          "execution_count": 5
        }
      ]
    },
    {
      "cell_type": "code",
      "source": [
        "# # Lets look at how wen quickly decode these reviewd back to english words:\n",
        "\n",
        "# word_index = imdb.get_word_index() # word index is dictionary mapping words to an integer index\n",
        "# reverse_word_index = dict(\n",
        "#     [(value, key) for (key,value) in word_index.items()]) # reverse it, mapping integer indices to words\n",
        "# decode_review = \" \".joint(\n",
        "#     [reverse_word_index.get(i-3,\"?\") for i in train_data[0]]) # decodes the review. Please note that idneces are offset by 3 cause \n",
        "#                                                               # 0,1 and 2 are researved indices for\"padding\", \"start of sequence\" and \"unknown\"\n"
      ],
      "metadata": {
        "id": "aO42jgbNgvYU"
      },
      "execution_count": 6,
      "outputs": []
    },
    {
      "cell_type": "code",
      "source": [
        "# Preaparing the data\n",
        "# Since we can not feed lists of intergers into a neural network we will have to turn our lists into tensors by One-hot encode\n",
        "\n",
        "# Encoding the integer sequences into a binary matrix\n",
        "import numpy as np\n",
        "\n",
        "def vectorize_sequences(sequences, dimension = 10000):\n",
        "  results = np.zeros((len(sequences),dimension)) # creates an all zero matrix of shape(len(sequences),dimesion)\n",
        "  for i, sequence in enumerate(sequences):\n",
        "    results[i, sequence] = 1 # Sets specific indices of results[i] to 1s\n",
        "  return results\n",
        "\n",
        "x_train = vectorize_sequences(train_data) # vectorizes training data\n",
        "x_test = vectorize_sequences(test_data) # vectorizes test data"
      ],
      "metadata": {
        "id": "amiKN5Ymh1Cl"
      },
      "execution_count": 7,
      "outputs": []
    },
    {
      "cell_type": "code",
      "source": [
        "# Lets see how sampels looks like now\n",
        "x_train[0]"
      ],
      "metadata": {
        "id": "i_-gYR3Yne3i",
        "colab": {
          "base_uri": "https://localhost:8080/"
        },
        "outputId": "51838747-6eef-47a3-ca84-07ab29ff658e"
      },
      "execution_count": 8,
      "outputs": [
        {
          "output_type": "execute_result",
          "data": {
            "text/plain": [
              "array([0., 1., 1., ..., 0., 0., 0.])"
            ]
          },
          "metadata": {},
          "execution_count": 8
        }
      ]
    },
    {
      "cell_type": "code",
      "source": [
        "# Similarly let's vectorize the labels\n",
        "y_train = np.asarray(train_labels).astype(\"float32\")\n",
        "y_test = np.asarray(test_labels).astype(\"float32\")"
      ],
      "metadata": {
        "id": "naC6s67Cnw1u"
      },
      "execution_count": 9,
      "outputs": []
    },
    {
      "cell_type": "code",
      "source": [
        "# Building a Network\n",
        "from keras import models\n",
        "from keras import layers\n",
        "\n",
        "model = models.Sequential()\n",
        "model.add(layers.Dense(16, activation = \"relu\", input_shape = (10000,)))\n",
        "model.add(layers.Dense(16,activation=\"relu\"))\n",
        "model.add(layers.Dense(1,activation=\"sigmoid\"))"
      ],
      "metadata": {
        "id": "cl46VJLFpYJe"
      },
      "execution_count": 10,
      "outputs": []
    },
    {
      "cell_type": "code",
      "source": [
        "# Compiling the model\n",
        "from keras import optimizers\n",
        "from keras import losses\n",
        "\n",
        "model.compile(optimizer= optimizers.Adam(), \n",
        "              loss= losses.binary_crossentropy,  # Since we are dealing with binary classification and probabilty\n",
        "              metrics= ['accuracy'])"
      ],
      "metadata": {
        "id": "Zjh4RH1Ag0-B"
      },
      "execution_count": 11,
      "outputs": []
    },
    {
      "cell_type": "code",
      "source": [
        "# Validate our Approach\n",
        "\n",
        "# Setting aside a validatioin set\n",
        "x_val = x_train[:10000]\n",
        "partial_x_train =  x_train[10000:]\n",
        "\n",
        "y_val = y_train[:10000]\n",
        "partial_y_train = y_train[10000:]\n"
      ],
      "metadata": {
        "id": "NfkiqvBVhI8g"
      },
      "execution_count": 12,
      "outputs": []
    },
    {
      "cell_type": "code",
      "source": [
        "# Training the Model\n",
        "\n",
        "model.compile (optimizer = 'rmsprop',\n",
        "               loss = 'binary_crossentropy',\n",
        "               metrics = 'accuracy')"
      ],
      "metadata": {
        "id": "senxIlnnmgfn"
      },
      "execution_count": 13,
      "outputs": []
    },
    {
      "cell_type": "code",
      "source": [
        "# We will now train the model for 20 epochs (20 iterations over all the samples in x_train and y_train tensors), \n",
        "# in mini-batches of 512 samples. At the same time, you'll moniter loss and accuracy on the 10,000 samples that we set apart.\n",
        "# We do so by passing the validation data as the validation_data argument.\n",
        "\n",
        "\n",
        "history = model.fit(partial_x_train,partial_y_train,\n",
        "                    epochs = 20,\n",
        "                    batch_size = 512,\n",
        "                    validation_data = (x_val,y_val))"
      ],
      "metadata": {
        "id": "-a1j_tzAm2wz",
        "colab": {
          "base_uri": "https://localhost:8080/"
        },
        "outputId": "f6354ffb-1b4b-4954-db6d-cbc9d8ea143b"
      },
      "execution_count": 14,
      "outputs": [
        {
          "output_type": "stream",
          "name": "stdout",
          "text": [
            "Epoch 1/20\n",
            "30/30 [==============================] - 4s 44ms/step - loss: 0.5341 - accuracy: 0.7863 - val_loss: 0.4172 - val_accuracy: 0.8569\n",
            "Epoch 2/20\n",
            "30/30 [==============================] - 1s 21ms/step - loss: 0.3304 - accuracy: 0.8988 - val_loss: 0.3353 - val_accuracy: 0.8711\n",
            "Epoch 3/20\n",
            "30/30 [==============================] - 1s 24ms/step - loss: 0.2398 - accuracy: 0.9240 - val_loss: 0.2840 - val_accuracy: 0.8898\n",
            "Epoch 4/20\n",
            "30/30 [==============================] - 1s 21ms/step - loss: 0.1897 - accuracy: 0.9385 - val_loss: 0.2732 - val_accuracy: 0.8927\n",
            "Epoch 5/20\n",
            "30/30 [==============================] - 1s 21ms/step - loss: 0.1539 - accuracy: 0.9491 - val_loss: 0.2762 - val_accuracy: 0.8901\n",
            "Epoch 6/20\n",
            "30/30 [==============================] - 1s 24ms/step - loss: 0.1270 - accuracy: 0.9603 - val_loss: 0.2867 - val_accuracy: 0.8867\n",
            "Epoch 7/20\n",
            "30/30 [==============================] - 1s 20ms/step - loss: 0.1047 - accuracy: 0.9692 - val_loss: 0.3143 - val_accuracy: 0.8834\n",
            "Epoch 8/20\n",
            "30/30 [==============================] - 1s 22ms/step - loss: 0.0854 - accuracy: 0.9765 - val_loss: 0.3216 - val_accuracy: 0.8840\n",
            "Epoch 9/20\n",
            "30/30 [==============================] - 1s 21ms/step - loss: 0.0719 - accuracy: 0.9810 - val_loss: 0.3805 - val_accuracy: 0.8716\n",
            "Epoch 10/20\n",
            "30/30 [==============================] - 1s 21ms/step - loss: 0.0585 - accuracy: 0.9853 - val_loss: 0.3761 - val_accuracy: 0.8790\n",
            "Epoch 11/20\n",
            "30/30 [==============================] - 1s 22ms/step - loss: 0.0457 - accuracy: 0.9900 - val_loss: 0.3949 - val_accuracy: 0.8776\n",
            "Epoch 12/20\n",
            "30/30 [==============================] - 1s 21ms/step - loss: 0.0397 - accuracy: 0.9903 - val_loss: 0.4224 - val_accuracy: 0.8764\n",
            "Epoch 13/20\n",
            "30/30 [==============================] - 1s 21ms/step - loss: 0.0312 - accuracy: 0.9932 - val_loss: 0.4564 - val_accuracy: 0.8747\n",
            "Epoch 14/20\n",
            "30/30 [==============================] - 1s 21ms/step - loss: 0.0254 - accuracy: 0.9954 - val_loss: 0.4882 - val_accuracy: 0.8710\n",
            "Epoch 15/20\n",
            "30/30 [==============================] - 1s 21ms/step - loss: 0.0195 - accuracy: 0.9970 - val_loss: 0.5271 - val_accuracy: 0.8683\n",
            "Epoch 16/20\n",
            "30/30 [==============================] - 1s 21ms/step - loss: 0.0176 - accuracy: 0.9968 - val_loss: 0.5487 - val_accuracy: 0.8697\n",
            "Epoch 17/20\n",
            "30/30 [==============================] - 1s 22ms/step - loss: 0.0094 - accuracy: 0.9996 - val_loss: 0.5851 - val_accuracy: 0.8665\n",
            "Epoch 18/20\n",
            "30/30 [==============================] - 1s 21ms/step - loss: 0.0097 - accuracy: 0.9991 - val_loss: 0.6139 - val_accuracy: 0.8692\n",
            "Epoch 19/20\n",
            "30/30 [==============================] - 1s 21ms/step - loss: 0.0090 - accuracy: 0.9985 - val_loss: 0.6518 - val_accuracy: 0.8674\n",
            "Epoch 20/20\n",
            "30/30 [==============================] - 1s 20ms/step - loss: 0.0042 - accuracy: 0.9999 - val_loss: 0.6871 - val_accuracy: 0.8657\n"
          ]
        }
      ]
    },
    {
      "cell_type": "code",
      "source": [
        "# Note that model.fit() returns a History object. This object has memeber history, which is dictionay containing data about\n",
        "# everything that happend during training. Let's have look at it\n",
        "\n",
        "history_dict = history.history\n",
        "history_dict.keys()\n"
      ],
      "metadata": {
        "id": "6VwYjgfenKUK",
        "colab": {
          "base_uri": "https://localhost:8080/"
        },
        "outputId": "49d48ca4-73c9-4626-e0dc-7a84df97619b"
      },
      "execution_count": 15,
      "outputs": [
        {
          "output_type": "execute_result",
          "data": {
            "text/plain": [
              "dict_keys(['loss', 'accuracy', 'val_loss', 'val_accuracy'])"
            ]
          },
          "metadata": {},
          "execution_count": 15
        }
      ]
    },
    {
      "cell_type": "code",
      "source": [
        "# This dictionary contains four entries: one per metric that was being monitored during training and during validaation. \n",
        "# In the following two listings, let's use Matplotlib to plot the training and validation loss side by side, as well as\n",
        "# training and validation accuracy. \n"
      ],
      "metadata": {
        "id": "__NZtU_FpoxO"
      },
      "execution_count": 16,
      "outputs": []
    },
    {
      "cell_type": "code",
      "source": [
        "# Plotting the training and validation loss\n",
        "import matplotlib.pyplot as plt\n",
        "\n",
        "history_dict = history.history\n",
        "loss_values = history_dict['loss']\n",
        "val_loss_values = history_dict['val_loss']\n",
        "\n",
        "epochs = range(1,epochs + 1)\n",
        "\n",
        "plt.plot(epochs, loss_values,'bo', label=\"Training_loss\")\n",
        "plt.plot(epochs,val_loss_values,\"b\",label=\"Validation_loss\")\n",
        "plt.title(\"Training and Validation loss\")\n",
        "plt.xlabel(\"Ecophs\")\n",
        "plt.ylabel(\"Loss\")\n",
        "plt.legend()\n",
        "\n",
        "plt.show()\n"
      ],
      "metadata": {
        "id": "qCXbuijCqkE8",
        "colab": {
          "base_uri": "https://localhost:8080/",
          "height": 295
        },
        "outputId": "6a94f10a-58c1-41a9-a2ef-53c70bd8e9a6"
      },
      "execution_count": 21,
      "outputs": [
        {
          "output_type": "display_data",
          "data": {
            "text/plain": [
              "<Figure size 432x288 with 1 Axes>"
            ],
            "image/png": "[encoded data removed]"
          },
          "metadata": {
            "needs_background": "light"
          }
        }
      ]
    },
    {
      "cell_type": "code",
      "source": [
        "# Plotting the trainin and validation accurcy\n",
        "\n",
        "plt.clf()\n",
        "acc_values = history_dict['accuracy']\n",
        "val_acc_values = history_dict['val_accuracy']\n",
        "\n",
        "plt.plot(epochs, acc_values, \"bo\", label = \"Training accuracy\")\n",
        "plt.plot(epochs,val_acc_values,'b', label=\"Validation accuracy\")\n",
        "plt.xlabel('Epochs')\n",
        "plt.ylabel(\"Accuracy\")\n",
        "plt.legend()\n",
        "\n",
        "plt.show()\n",
        "\n"
      ],
      "metadata": {
        "id": "uVh8hbcRsEAr",
        "colab": {
          "base_uri": "https://localhost:8080/",
          "height": 279
        },
        "outputId": "9aaaa2be-fc05-4b5c-90d5-5614ab4e033e"
      },
      "execution_count": 22,
      "outputs": [
        {
          "output_type": "display_data",
          "data": {
            "text/plain": [
              "<Figure size 432x288 with 1 Axes>"
            ],
            "image/png": "[encoded data removed]"
          },
          "metadata": {
            "needs_background": "light"
          }
        }
      ]
    },
    {
      "cell_type": "code",
      "source": [
        "# Observation\n",
        "\n",
        "# The training loss decrease with every epochs and training accuracy increase with every epochs\n",
        "\n",
        "# However it is not the case in case validation loss and accuracy. We would expect when running gradient descent optimization the quantity you are\n",
        "# trying to minimize should be less with every iteration. \n",
        "\n",
        "# The model is overfitting after the second epochs, we are overoptimizing on the training data and dont generalize to data outside of the training set.\n",
        "\n",
        "# To prevent overfittng we can stop training after three epochs. Let's see\n"
      ],
      "metadata": {
        "id": "GLC_4IlgvngQ"
      },
      "execution_count": 23,
      "outputs": []
    },
    {
      "cell_type": "code",
      "source": [
        "# Retrainng a model from scratch\n",
        "\n",
        "model = models.Sequential()\n",
        "model.add(layers.Dense(16, activation = 'relu', input_shape = (10000,)))\n",
        "model.add(layers.Dense(16, activation = 'relu'))\n",
        "model.add(layers.Dense(1, activation='sigmoid'))\n",
        "\n",
        "model.compile(optimizer='rmsprop',\n",
        "              loss = 'binary_crossentropy',\n",
        "              metrics = ['accuracy'])\n",
        "\n",
        "model.fit(x_train,y_train, epochs=3, batch_size=512)\n",
        "results = model.evaluate(x_test,y_test)\n"
      ],
      "metadata": {
        "colab": {
          "base_uri": "https://localhost:8080/"
        },
        "id": "GFwcqUMxzE50",
        "outputId": "65c5a1b3-0010-42d9-fe47-898d3102d111"
      },
      "execution_count": 24,
      "outputs": [
        {
          "output_type": "stream",
          "name": "stdout",
          "text": [
            "Epoch 1/3\n",
            "49/49 [==============================] - 1s 14ms/step - loss: 0.4728 - accuracy: 0.8046\n",
            "Epoch 2/3\n",
            "49/49 [==============================] - 1s 14ms/step - loss: 0.2637 - accuracy: 0.9086\n",
            "Epoch 3/3\n",
            "49/49 [==============================] - 1s 13ms/step - loss: 0.1985 - accuracy: 0.9303\n",
            "782/782 [==============================] - 2s 3ms/step - loss: 0.2887 - accuracy: 0.8836\n"
          ]
        }
      ]
    },
    {
      "cell_type": "code",
      "source": [
        "results"
      ],
      "metadata": {
        "colab": {
          "base_uri": "https://localhost:8080/"
        },
        "id": "-TOQGzaL0Ke4",
        "outputId": "4fce92f8-e4eb-4733-939a-ef9136a97e07"
      },
      "execution_count": 25,
      "outputs": [
        {
          "output_type": "execute_result",
          "data": {
            "text/plain": [
              "[0.2886602282524109, 0.8835999965667725]"
            ]
          },
          "metadata": {},
          "execution_count": 25
        }
      ]
    },
    {
      "cell_type": "code",
      "source": [
        "# Using our trained Network to generate predicts on new data\n",
        "model.predict(x_test)"
      ],
      "metadata": {
        "colab": {
          "base_uri": "https://localhost:8080/"
        },
        "id": "vXywiREY0Uth",
        "outputId": "4c0814f7-10de-4c6c-efb0-d516cdaff8de"
      },
      "execution_count": 26,
      "outputs": [
        {
          "output_type": "stream",
          "name": "stdout",
          "text": [
            "782/782 [==============================] - 2s 2ms/step\n"
          ]
        },
        {
          "output_type": "execute_result",
          "data": {
            "text/plain": [
              "array([[0.23584855],\n",
              "       [0.9999422 ],\n",
              "       [0.93469226],\n",
              "       ...,\n",
              "       [0.16739096],\n",
              "       [0.12092026],\n",
              "       [0.7267837 ]], dtype=float32)"
            ]
          },
          "metadata": {},
          "execution_count": 26
        }
      ]
    },
    {
      "cell_type": "code",
      "source": [],
      "metadata": {
        "id": "n6vyYLIS1VUo"
      },
      "execution_count": null,
      "outputs": []
    }
  ]
}